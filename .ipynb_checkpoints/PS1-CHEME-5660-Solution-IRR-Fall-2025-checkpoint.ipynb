{
 "cells": [
  {
   "cell_type": "markdown",
   "id": "0c1da5e7-a131-42ce-85b2-0f6a0f9b4ada",
   "metadata": {},
   "source": [
    "# PS1: Let's build a backtester for U.S. Treasury Portfolios\n",
    "In this problem set, we will develop an initial proof-of-concept backtesting system for understanding how the value of United States Treasury security portfolio's change as a function of market conditions and time."
   ]
  },
  {
   "cell_type": "code",
   "execution_count": null,
   "id": "be161c14-cc83-48ad-b443-9336a4af0d69",
   "metadata": {},
   "outputs": [],
   "source": []
  }
 ],
 "metadata": {
  "kernelspec": {
   "display_name": "Julia 1.11.6",
   "language": "julia",
   "name": "julia-1.11"
  },
  "language_info": {
   "name": ""
  }
 },
 "nbformat": 4,
 "nbformat_minor": 5
}
