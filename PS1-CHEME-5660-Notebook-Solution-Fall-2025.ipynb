{
 "cells": [
  {
   "cell_type": "markdown",
   "id": "dbd7e79d-3a0e-43fd-8193-8d9f96f7dc25",
   "metadata": {},
   "source": [
    "# Problem Set 1 (PS1): A Deeper Dive into Malkiel's Theorem 4\n",
    "Malkiel proposed five theorems that govern the price of fixed-income debt securities, e.g., Treasury Bills, Notes, and Bonds, as a function of the duration, yield, and coupon (interest) rate  values:\n",
    "\n",
    "> [Malkiel, B. G. (1962). Expectations, Bond Prices, and the Term Structure of Interest Rates. The Quarterly Journal of Economics, 76(2), 197–218. https://doi.org/10.2307/1880816](https://www.jstor.org/stable/1880816)\n",
    "\n",
    "In class, we showed (by simulation) that we could observe the essential stipulation of `Theorem 4`: Price movements resulting from equal absolute increases and decreases in yield are asymmetric; i.e., decreasing yields raise bond prices more than the same increase in yields lowers prices. However, during the discussion of the simulation results, we ran up against an interesting question: \n",
    "> __Question__: Would you expect the price asymmetry to increase or decrease with the duration of the note or bond?\n",
    "\n",
    "### Tasks\n",
    "This problem set's objective is to explore the price asymmetry question we introduced in the lecture by simulating price changes in different instruments resulting from changes in $\\bar{r}$.\n",
    "* __Prerequisite__: Load the Treasury auction dataset. We load some data and set some stuff that we use below. There is nothing to do in the __prerequisite__ section, but check it out if you are curious.\n",
    "* __Task 1__: Compute prices for a Bill, Note, and Bond to check our implementation. We've selected some Treasury securities from the dataset, but we must build models and compute prices (and other data). In this task, you will create (and populate) models of a Bill, a Note, and a Bond and compare the computed price with the price observed at auction.\n",
    "* __Task 2__: In class, we showed that notes (and, by extension, bonds) show price change asymmetry. However, we have not explored whether Bills also have this property. In this task, you'll use the treasury bill model we created above and explore the price asymmetry question by simulation.\n",
    "* __Task 3__: Finally, in class, we showed that coupon securities exhibited price asymmetry, i.e., the absolute percentage change in the price was larger for decreases in $\\bar{r}\\downarrow$ compared to the response when $\\bar{r}\\uparrow$ increases. However, are longer-maturity instruments more sensitive to this effect, i.e., do they exhibit a larger asymmetry? Let's do some calculations to explore this question.\n",
    "\n",
    "Let's get started!\n",
    "___"
   ]
  },
  {
   "cell_type": "markdown",
   "id": "5f650607-3f7e-4e24-a680-2fabf9c2f3e4",
   "metadata": {},
   "source": [
    "## Setup, Data, and Prerequisites\n",
    "We set up the computational environment by including the `Include.jl` file, loading any needed resources, such as sample datasets, and setting up any required constants. \n",
    "\n",
    "> __Include:__ the [include(...) function](https://docs.julialang.org/en/v1/base/base/#include) is a convenient way to load Julia code from another file. The `Include.jl` file is a Julia file that loads external packages, and various functions that we will use in the exercise. It checks for a `Manifest.toml` file; if it finds one, packages are loaded. Otherwise, packages are downloaded and then loaded.\n",
    "\n",
    "Setup your computational environment by running the code cell below. "
   ]
  },
  {
   "cell_type": "code",
   "execution_count": null,
   "id": "1e9d8a32-05e3-4688-b67e-4e66737fe4fd",
   "metadata": {},
   "outputs": [
    {
     "name": "stderr",
     "output_type": "stream",
     "text": [
      "\u001b[32m\u001b[1m    Updating\u001b[22m\u001b[39m git-repo `https://github.com/varnerlab/VLQuantitativeFinancePackage.jl.git`\n",
      "\u001b[32m\u001b[1m    Updating\u001b[22m\u001b[39m registry at `~/.julia/registries/General.toml`\n",
      "\u001b[32m\u001b[1m   Resolving\u001b[22m\u001b[39m package versions...\n",
      "\u001b[32m\u001b[1m  No Changes\u001b[22m\u001b[39m to `~/.julia/environments/v1.11/Project.toml`\n",
      "\u001b[32m\u001b[1m  No Changes\u001b[22m\u001b[39m to `~/.julia/environments/v1.11/Manifest.toml`\n",
      "\u001b[32m\u001b[1m  Activating\u001b[22m\u001b[39m project at `~/Desktop/julia_work/PS-5660-F25/PS1-CHEME-5660-CIR-TEMPLATE-Fall-2025`\n"
     ]
    },
    {
     "ename": "LoadError",
     "evalue": "LoadError: expected package `VLQuantitativeFinancePackage [4119e0bf]` to be registered\nin expression starting at /Users/jdv27/Desktop/julia_work/PS-5660-F25/PS1-CHEME-5660-CIR-TEMPLATE-Fall-2025/Include.jl:9",
     "output_type": "error",
     "traceback": [
      "LoadError: expected package `VLQuantitativeFinancePackage [4119e0bf]` to be registered\n",
      "in expression starting at /Users/jdv27/Desktop/julia_work/PS-5660-F25/PS1-CHEME-5660-CIR-TEMPLATE-Fall-2025/Include.jl:9\n",
      "\n",
      "Stacktrace:\n",
      "  [1] pkgerror(msg::String)\n",
      "    @ Pkg.Types ~/.julia/juliaup/julia-1.11.6+0.aarch64.apple.darwin14/share/julia/stdlib/v1.11/Pkg/src/Types.jl:68\n",
      "  [2] check_registered\n",
      "    @ ~/.julia/juliaup/julia-1.11.6+0.aarch64.apple.darwin14/share/julia/stdlib/v1.11/Pkg/src/Operations.jl:1329 [inlined]\n",
      "  [3] up(ctx::Pkg.Types.Context, pkgs::Vector{Pkg.Types.PackageSpec}, level::Pkg.Types.UpgradeLevel; skip_writing_project::Bool, preserve::Nothing)\n",
      "    @ Pkg.Operations ~/.julia/juliaup/julia-1.11.6+0.aarch64.apple.darwin14/share/julia/stdlib/v1.11/Pkg/src/Operations.jl:1632\n",
      "  [4] up\n",
      "    @ ~/.julia/juliaup/julia-1.11.6+0.aarch64.apple.darwin14/share/julia/stdlib/v1.11/Pkg/src/Operations.jl:1612 [inlined]\n",
      "  [5] up(ctx::Pkg.Types.Context, pkgs::Vector{Pkg.Types.PackageSpec}; level::Pkg.Types.UpgradeLevel, mode::Pkg.Types.PackageMode, preserve::Nothing, update_registry::Bool, skip_writing_project::Bool, kwargs::@Kwargs{})\n",
      "    @ Pkg.API ~/.julia/juliaup/julia-1.11.6+0.aarch64.apple.darwin14/share/julia/stdlib/v1.11/Pkg/src/API.jl:388\n",
      "  [6] up\n",
      "    @ ~/.julia/juliaup/julia-1.11.6+0.aarch64.apple.darwin14/share/julia/stdlib/v1.11/Pkg/src/API.jl:362 [inlined]\n",
      "  [7] up\n",
      "    @ ~/.julia/juliaup/julia-1.11.6+0.aarch64.apple.darwin14/share/julia/stdlib/v1.11/Pkg/src/API.jl:164 [inlined]\n",
      "  [8] #resolve#143\n",
      "    @ ~/.julia/juliaup/julia-1.11.6+0.aarch64.apple.darwin14/share/julia/stdlib/v1.11/Pkg/src/API.jl:394 [inlined]\n",
      "  [9] resolve\n",
      "    @ ~/.julia/juliaup/julia-1.11.6+0.aarch64.apple.darwin14/share/julia/stdlib/v1.11/Pkg/src/API.jl:393 [inlined]\n",
      " [10] resolve(; io::IOContext{IO}, kwargs::@Kwargs{})\n",
      "    @ Pkg.API ~/.julia/juliaup/julia-1.11.6+0.aarch64.apple.darwin14/share/julia/stdlib/v1.11/Pkg/src/API.jl:392\n",
      " [11] top-level scope\n",
      "    @ ~/Desktop/julia_work/PS-5660-F25/PS1-CHEME-5660-CIR-TEMPLATE-Fall-2025/Include.jl:11"
     ]
    }
   ],
   "source": [
    "include(joinpath(@__DIR__, \"Include.jl\")); # this sets up the environment, we'll do this all the time, on everything we do"
   ]
  },
  {
   "cell_type": "markdown",
   "id": "e5fe360d",
   "metadata": {},
   "source": [
    "For additional information on functions and types used in this material, see the [Julia programming language documentation](https://docs.julialang.org/en/v1/) and the [VLQuantitativeFinancePackage.jl documentation](https://github.com/varnerlab/VLQuantitativeFinancePackage.jl)."
   ]
  },
  {
   "cell_type": "markdown",
   "id": "de0a2e1b-295c-4514-a9f5-ace350f7ea2c",
   "metadata": {
    "jp-MarkdownHeadingCollapsed": true
   },
   "source": [
    "### Data\n",
    "We'll explore `T-bill,` `T-note,` and `T-bond` prices from United States Treasury auctions between March 2020 and September 2024 downloaded as a `CSV` file using the [Auction query functionality of TreasuryDirect.gov](https://www.treasurydirect.gov/auctions/auction-query/). We load the `CSV` dataset using the local [`MyTreasuryBillsNotesAndBondsDataSet()` function](src/Files.jl), which returns the auction data as [the `dataset::DataFrame`](https://dataframes.juliadata.org/stable/) variable."
   ]
  },
  {
   "cell_type": "code",
   "execution_count": 2,
   "id": "5279a66f-574d-4a93-8dc6-cec8c3ea10c3",
   "metadata": {},
   "outputs": [
    {
     "ename": "UndefVarError",
     "evalue": "UndefVarError: `MyTreasuryBillsNotesAndBondsDataSet` not defined in `Main`\nSuggestion: check for spelling errors or missing imports.",
     "output_type": "error",
     "traceback": [
      "UndefVarError: `MyTreasuryBillsNotesAndBondsDataSet` not defined in `Main`\n",
      "Suggestion: check for spelling errors or missing imports.\n",
      "\n",
      "Stacktrace:\n",
      " [1] top-level scope\n",
      "   @ ~/Desktop/julia_work/PS-5660-F25/PS1-CHEME-5660-CIR-TEMPLATE-Fall-2025/jl_notebook_cell_df34fa98e69747e1a8f8a730347b8e2f_W4sZmlsZQ==.jl:1"
     ]
    }
   ],
   "source": [
    "dataset = MyTreasuryBillsNotesAndBondsDataSet()"
   ]
  },
  {
   "cell_type": "markdown",
   "id": "3d3dc225-45cf-478a-956d-65fc9e6f1ece",
   "metadata": {},
   "source": [
    "To help below, let's use [the `filter!(...)` method exported by the DataFrames.jl package](https://dataframes.juliadata.org/stable/lib/functions/#Base.filter) to collect only the data for the bills; we save this to the `bills_dataset::DataFrame` variable."
   ]
  },
  {
   "cell_type": "code",
   "execution_count": 3,
   "id": "c9330cc6-f9ce-46d3-b363-22701a6c2a66",
   "metadata": {},
   "outputs": [
    {
     "ename": "UndefVarError",
     "evalue": "UndefVarError: `dataset` not defined in `Main`\nSuggestion: check for spelling errors or missing imports.",
     "output_type": "error",
     "traceback": [
      "UndefVarError: `dataset` not defined in `Main`\n",
      "Suggestion: check for spelling errors or missing imports.\n",
      "\n",
      "Stacktrace:\n",
      " [1] top-level scope\n",
      "   @ ~/Desktop/julia_work/PS-5660-F25/PS1-CHEME-5660-CIR-TEMPLATE-Fall-2025/jl_notebook_cell_df34fa98e69747e1a8f8a730347b8e2f_W6sZmlsZQ==.jl:1"
     ]
    }
   ],
   "source": [
    "bills_dataset = filter(Symbol(\"Security Type\") => x-> x == \"Bill\", dataset)"
   ]
  },
  {
   "cell_type": "markdown",
   "id": "980bcb98-a80a-409b-b8d5-4df75b4f4a3e",
   "metadata": {},
   "source": [
    "Similarly, we use [the `filter!(...)` method exported by the DataFrames.jl package](https://dataframes.juliadata.org/stable/lib/functions/#Base.filter) to collect only the data for the notes and bonds; we save this to the `notes_bonds_dataset::DataFrame` variable."
   ]
  },
  {
   "cell_type": "code",
   "execution_count": 4,
   "id": "bd49e8bd-f20d-4722-a3a4-d0a8f7c417b1",
   "metadata": {},
   "outputs": [
    {
     "ename": "UndefVarError",
     "evalue": "UndefVarError: `dataset` not defined in `Main`\nSuggestion: check for spelling errors or missing imports.",
     "output_type": "error",
     "traceback": [
      "UndefVarError: `dataset` not defined in `Main`\n",
      "Suggestion: check for spelling errors or missing imports.\n",
      "\n",
      "Stacktrace:\n",
      " [1] top-level scope\n",
      "   @ ~/Desktop/julia_work/PS-5660-F25/PS1-CHEME-5660-CIR-TEMPLATE-Fall-2025/jl_notebook_cell_df34fa98e69747e1a8f8a730347b8e2f_X11sZmlsZQ==.jl:1"
     ]
    }
   ],
   "source": [
    "notes_bonds_dataset = filter(Symbol(\"Security Type\") => x-> (x == \"Note\" || x == \"Bond\"), dataset)"
   ]
  },
  {
   "cell_type": "markdown",
   "id": "ffdfa7ec-89e0-4d16-823a-d4f870d5e9b2",
   "metadata": {},
   "source": [
    "Finally, we build an [instance of the `DiscreteCompoundingModel` type](https://varnerlab.github.io/VLQuantitativeFinancePackage.jl/dev/fixed/#VLQuantitativeFinancePackage.DiscreteCompoundingModel) and store this discount model in the `discount_model` variable:"
   ]
  },
  {
   "cell_type": "code",
   "execution_count": 5,
   "id": "f521deb3-7d51-44cb-a997-77c15811c0a5",
   "metadata": {},
   "outputs": [
    {
     "ename": "UndefVarError",
     "evalue": "UndefVarError: `DiscreteCompoundingModel` not defined in `Main`\nSuggestion: check for spelling errors or missing imports.",
     "output_type": "error",
     "traceback": [
      "UndefVarError: `DiscreteCompoundingModel` not defined in `Main`\n",
      "Suggestion: check for spelling errors or missing imports.\n",
      "\n",
      "Stacktrace:\n",
      " [1] top-level scope\n",
      "   @ ~/Desktop/julia_work/PS-5660-F25/PS1-CHEME-5660-CIR-TEMPLATE-Fall-2025/jl_notebook_cell_df34fa98e69747e1a8f8a730347b8e2f_X13sZmlsZQ==.jl:1"
     ]
    }
   ],
   "source": [
    "discount_model = DiscreteCompoundingModel();"
   ]
  },
  {
   "cell_type": "markdown",
   "id": "ca651486",
   "metadata": {},
   "source": [
    "___"
   ]
  },
  {
   "cell_type": "markdown",
   "id": "e73e8b52-58a3-4f72-8958-e0fc9abcc565",
   "metadata": {
    "jp-MarkdownHeadingCollapsed": true
   },
   "source": [
    "## Task 1: Compute prices for a Bill, Note, and Bond to check our implementation\n",
    "To verify our code installation (and implementation), the teaching team has selected a random bill, note, and bond from the dataset. In this task, you will construct the corresponding treasury model instance, compute the price for each of these securities, and compare the calculated and observed prices. \n",
    "\n",
    "\n",
    "> __Example:__ Let's compute the price of a `26-Week` T-bill with par value $V_{P}$ = `100 USD` with a value of $\\bar{r}$ = `0.04865.` The observed price for this security is $V_{B}$ = `97.6315 USD`. Assume two compounding periods per year.\n",
    "\n",
    "Create an instance of [the `MyUSTreasuryZeroCouponBondModel` type](https://varnerlab.github.io/VLQuantitativeFinancePackage.jl/dev/fixed/#VLQuantitativeFinancePackage.MyUSTreasuryZeroCouponBondModel) using a [custom `build(...)` method](https://varnerlab.github.io/VLQuantitativeFinancePackage.jl/dev/fixed/#VLQuantitativeFinancePackage.build-Tuple{Type{MyUSTreasuryZeroCouponBondModel},%20NamedTuple}), assuming the data above. Pass the data into [the `build(...)` method](https://varnerlab.github.io/VLQuantitativeFinancePackage.jl/dev/fixed/#VLQuantitativeFinancePackage.build-Tuple{Type{MyUSTreasuryZeroCouponBondModel},%20NamedTuple}), and use the short-cut syntax to compute the price. Save the updated model in the `zero_coupon_model` variable. "
   ]
  },
  {
   "cell_type": "code",
   "execution_count": 6,
   "id": "e6854f7a-effb-43e1-af0d-f6b128cce8e9",
   "metadata": {},
   "outputs": [
    {
     "ename": "UndefVarError",
     "evalue": "UndefVarError: `build` not defined in `Main`\nSuggestion: check for spelling errors or missing imports.\nHint: a global variable of this name also exists in Pkg.",
     "output_type": "error",
     "traceback": [
      "UndefVarError: `build` not defined in `Main`\n",
      "Suggestion: check for spelling errors or missing imports.\n",
      "Hint: a global variable of this name also exists in Pkg.\n",
      "\n",
      "Stacktrace:\n",
      " [1] top-level scope\n",
      "   @ ~/Desktop/julia_work/PS-5660-F25/PS1-CHEME-5660-CIR-TEMPLATE-Fall-2025/jl_notebook_cell_df34fa98e69747e1a8f8a730347b8e2f_X16sZmlsZQ==.jl:1"
     ]
    }
   ],
   "source": [
    "zero_coupon_model = build(MyUSTreasuryZeroCouponBondModel, (\n",
    "    n = 2, par = 100, \n",
    "        T = \"26-Week\" |> securityterm,\n",
    "        rate = 0.04865,\n",
    ")) |> discount_model;"
   ]
  },
  {
   "cell_type": "markdown",
   "id": "62f40a66-2242-4d48-8b44-1e2a9a4370dd",
   "metadata": {},
   "source": [
    "Now that we have calculated the price, compare the calculated and observed prices using the [@assert macro](https://docs.julialang.org/en/v1/base/base/#Base.@assert) in combination with [the `isapprox(...)` method](https://docs.julialang.org/en/v1/base/math/#Base.isapprox). \n",
    "\n",
    "> __Test:__ If the computed and observed price are different, i.e., they have relative difference tolerance of `rtol`$>$`1e-4`, then the [@assert macro](https://docs.julialang.org/en/v1/base/base/#Base.@assert) will `fail,` resulting in an [AssertionError](https://docs.julialang.org/en/v1/base/base/#Core.AssertionError). Otherwise, the [@assert macro](https://docs.julialang.org/en/v1/base/base/#Base.@assert) will `pass` silently (nothing happens).\n",
    "\n",
    "So, what do we see?"
   ]
  },
  {
   "cell_type": "code",
   "execution_count": 7,
   "id": "b186affa-2f7e-4bbe-9b7d-ba55cbbd5f81",
   "metadata": {},
   "outputs": [
    {
     "ename": "UndefVarError",
     "evalue": "UndefVarError: `zero_coupon_model` not defined in `Main`\nSuggestion: check for spelling errors or missing imports.",
     "output_type": "error",
     "traceback": [
      "UndefVarError: `zero_coupon_model` not defined in `Main`\n",
      "Suggestion: check for spelling errors or missing imports.\n",
      "\n",
      "Stacktrace:\n",
      " [1] top-level scope\n",
      "   @ ~/Desktop/julia_work/PS-5660-F25/PS1-CHEME-5660-CIR-TEMPLATE-Fall-2025/jl_notebook_cell_df34fa98e69747e1a8f8a730347b8e2f_X21sZmlsZQ==.jl:3"
     ]
    }
   ],
   "source": [
    "let\n",
    "    observed_bill_price = 97.6315;\n",
    "    @assert isapprox(observed_bill_price, zero_coupon_model.price, rtol=1e-4)\n",
    "end"
   ]
  },
  {
   "cell_type": "markdown",
   "id": "faa68886-ac0a-44d7-8ddd-e5b5e6dd6c2e",
   "metadata": {},
   "source": [
    "Next, compute the price of a Tresury Note.\n",
    "\n",
    "> __Example:__ Compute the price of a `7-Year` T-Note with par value $V_{P}$ = `100 USD` with a value of $\\bar{r}$ = `0.04162` and coupon rate $\\bar{c}$ = `0.04125.` The observed sale price for this security at auction was $V_{B}$ = `98.9288 USD`. Assume two compounding periods per year.\n",
    "\n",
    "Create an [instance of the `MyUSTreasuryCouponSecurityModel` type](https://varnerlab.github.io/VLQuantitativeFinancePackage.jl/dev/fixed/#VLQuantitativeFinancePackage.MyUSTreasuryCouponSecurityModel) using [a custom `build(...)` method](https://varnerlab.github.io/VLQuantitativeFinancePackage.jl/dev/fixed/#VLQuantitativeFinancePackage.build-Tuple{Type{MyUSTreasuryCouponSecurityModel},%20NamedTuple})., assuming the data above. Pass in the appropriate data into [the `build(...)` method](https://varnerlab.github.io/VLQuantitativeFinancePackage.jl/dev/fixed/#VLQuantitativeFinancePackage.build-Tuple{Type{MyUSTreasuryCouponSecurityModel},%20NamedTuple}) and use the short-cut syntax to compute the price. Save the updated model in the `note_coupon_model` variable. "
   ]
  },
  {
   "cell_type": "code",
   "execution_count": 8,
   "id": "2e22f327-b4f5-4847-8ee4-a318c39eacea",
   "metadata": {},
   "outputs": [
    {
     "ename": "UndefVarError",
     "evalue": "UndefVarError: `build` not defined in `Main`\nSuggestion: check for spelling errors or missing imports.\nHint: a global variable of this name also exists in Pkg.",
     "output_type": "error",
     "traceback": [
      "UndefVarError: `build` not defined in `Main`\n",
      "Suggestion: check for spelling errors or missing imports.\n",
      "Hint: a global variable of this name also exists in Pkg.\n",
      "\n",
      "Stacktrace:\n",
      " [1] top-level scope\n",
      "   @ ~/Desktop/julia_work/PS-5660-F25/PS1-CHEME-5660-CIR-TEMPLATE-Fall-2025/jl_notebook_cell_df34fa98e69747e1a8f8a730347b8e2f_X23sZmlsZQ==.jl:1"
     ]
    }
   ],
   "source": [
    "note_coupon_model = build(MyUSTreasuryCouponSecurityModel, (\n",
    "    λ = 2, par = 100.0,\n",
    "        \n",
    "    T = \"7-Year\" |> securityterm,\n",
    "    rate = 0.04162,\n",
    "    coupon = 0.04125,\n",
    "    \n",
    ")) |> discount_model;"
   ]
  },
  {
   "cell_type": "markdown",
   "id": "20097ad0-b28a-421d-8061-caec365aaed2",
   "metadata": {},
   "source": [
    "Now that we have calculated the price, compare the calculated and observed prices using the [@assert macro](https://docs.julialang.org/en/v1/base/base/#Base.@assert) in combination with [the `isapprox(...)` method](https://docs.julialang.org/en/v1/base/math/#Base.isapprox). \n",
    "\n",
    "> __Test:__ If the computed and observed price are different, i.e., they have relative difference tolerance of `rtol`$>$`1e-4`, then the [@assert macro](https://docs.julialang.org/en/v1/base/base/#Base.@assert) will `fail,` resulting in an [AssertionError](https://docs.julialang.org/en/v1/base/base/#Core.AssertionError). Otherwise, the [@assert macro](https://docs.julialang.org/en/v1/base/base/#Base.@assert) will `pass` silently (nothing happens).\n",
    "\n",
    "So, what do we see?"
   ]
  },
  {
   "cell_type": "code",
   "execution_count": 9,
   "id": "773ad508-e670-4291-b279-53ef944e65a9",
   "metadata": {},
   "outputs": [
    {
     "ename": "UndefVarError",
     "evalue": "UndefVarError: `note_coupon_model` not defined in `Main`\nSuggestion: check for spelling errors or missing imports.",
     "output_type": "error",
     "traceback": [
      "UndefVarError: `note_coupon_model` not defined in `Main`\n",
      "Suggestion: check for spelling errors or missing imports.\n",
      "\n",
      "Stacktrace:\n",
      " [1] top-level scope\n",
      "   @ ~/Desktop/julia_work/PS-5660-F25/PS1-CHEME-5660-CIR-TEMPLATE-Fall-2025/jl_notebook_cell_df34fa98e69747e1a8f8a730347b8e2f_X25sZmlsZQ==.jl:3"
     ]
    }
   ],
   "source": [
    "let\n",
    "    observed_note_price = 99.7773;\n",
    "    @assert isapprox(observed_note_price, note_coupon_model.price, rtol=1e-4)\n",
    "end"
   ]
  },
  {
   "cell_type": "markdown",
   "id": "bdd1c4c8-514a-45d5-b3bc-6d2a4464c752",
   "metadata": {},
   "source": [
    "Next, compute the price of a Tresury Note.\n",
    "\n",
    "> __Example:__ Let's compute the price of a `30-Year` T-Bond with par value $V_{P}$ = `100 USD` with a value of $\\bar{r}$ = `0.04314` and coupon rate $\\bar{c}$ = `0.0425.` The observed sale price for this security at auction was $V_{B}$ = `98.9288 USD`. Assume two compounding periods per year.\n",
    "\n",
    "Create an [instance of the `MyUSTreasuryCouponSecurityModel` type](https://varnerlab.github.io/VLQuantitativeFinancePackage.jl/dev/fixed/#VLQuantitativeFinancePackage.MyUSTreasuryCouponSecurityModel) using [a custom `build(...)` method](https://varnerlab.github.io/VLQuantitativeFinancePackage.jl/dev/fixed/#VLQuantitativeFinancePackage.build-Tuple{Type{MyUSTreasuryCouponSecurityModel},%20NamedTuple})., assuming the data above. Pass in the appropriate data into [the `build(...)` method](https://varnerlab.github.io/VLQuantitativeFinancePackage.jl/dev/fixed/#VLQuantitativeFinancePackage.build-Tuple{Type{MyUSTreasuryCouponSecurityModel},%20NamedTuple}) and use the short-cut syntax to compute the price. Save the updated model in the `bond_coupon_model` variable. "
   ]
  },
  {
   "cell_type": "code",
   "execution_count": 10,
   "id": "93f5e3eb-2b63-402e-91d1-ac5499500e40",
   "metadata": {},
   "outputs": [
    {
     "ename": "UndefVarError",
     "evalue": "UndefVarError: `build` not defined in `Main`\nSuggestion: check for spelling errors or missing imports.\nHint: a global variable of this name also exists in Pkg.",
     "output_type": "error",
     "traceback": [
      "UndefVarError: `build` not defined in `Main`\n",
      "Suggestion: check for spelling errors or missing imports.\n",
      "Hint: a global variable of this name also exists in Pkg.\n",
      "\n",
      "Stacktrace:\n",
      " [1] top-level scope\n",
      "   @ ~/Desktop/julia_work/PS-5660-F25/PS1-CHEME-5660-CIR-TEMPLATE-Fall-2025/jl_notebook_cell_df34fa98e69747e1a8f8a730347b8e2f_X30sZmlsZQ==.jl:1"
     ]
    }
   ],
   "source": [
    "bond_coupon_model = build(MyUSTreasuryCouponSecurityModel, (\n",
    "    λ = 2, par = 100.0,\n",
    "        \n",
    "    T = \"30-Year\" |> securityterm,\n",
    "    rate = 0.04314,\n",
    "    coupon = 0.0425,\n",
    "    \n",
    ")) |> discount_model;"
   ]
  },
  {
   "cell_type": "markdown",
   "id": "49d86547-e5d4-4d9d-98d8-6d86b4b0b47d",
   "metadata": {},
   "source": [
    "Now that we have calculated the price, compare the calculated and observed prices using the [@assert macro](https://docs.julialang.org/en/v1/base/base/#Base.@assert) in combination with [the `isapprox(...)` method](https://docs.julialang.org/en/v1/base/math/#Base.isapprox). \n",
    "\n",
    "\n",
    "> __Test:__ If the computed and observed price are different, i.e., they have relative difference tolerance of `rtol`$>$`1e-4`, then the [@assert macro](https://docs.julialang.org/en/v1/base/base/#Base.@assert) will `fail,` resulting in an [AssertionError](https://docs.julialang.org/en/v1/base/base/#Core.AssertionError). Otherwise, the [@assert macro](https://docs.julialang.org/en/v1/base/base/#Base.@assert) will `pass` silently (nothing happens).\n",
    "\n",
    "So, what do we see?"
   ]
  },
  {
   "cell_type": "code",
   "execution_count": 11,
   "id": "9fc0fd72-17dd-4ff4-8e27-eaa915f7d2e3",
   "metadata": {},
   "outputs": [
    {
     "ename": "UndefVarError",
     "evalue": "UndefVarError: `bond_coupon_model` not defined in `Main`\nSuggestion: check for spelling errors or missing imports.",
     "output_type": "error",
     "traceback": [
      "UndefVarError: `bond_coupon_model` not defined in `Main`\n",
      "Suggestion: check for spelling errors or missing imports.\n",
      "\n",
      "Stacktrace:\n",
      " [1] top-level scope\n",
      "   @ ~/Desktop/julia_work/PS-5660-F25/PS1-CHEME-5660-CIR-TEMPLATE-Fall-2025/jl_notebook_cell_df34fa98e69747e1a8f8a730347b8e2f_X32sZmlsZQ==.jl:3"
     ]
    }
   ],
   "source": [
    "let\n",
    "    observed_bond_price = 98.9288;\n",
    "    @assert isapprox(observed_bond_price, bond_coupon_model.price, rtol=1e-4)\n",
    "end"
   ]
  },
  {
   "cell_type": "markdown",
   "id": "d4b38812-f871-4af6-b9fd-d4161b038192",
   "metadata": {},
   "source": [
    "## Task 2: Do bills show the price asymmetry property? \n",
    "In class, we showed that notes (and, by extension, bonds) show price change asymmetry. However, we have not explored whether Bills also have this property. In this task, you'll use the treasury bill model that we created above and explore the price asymmetry question by simulation.\n",
    "\n",
    "> __Strategy:__ To simulate the asymmetry of changes in price following changes in the yield (discount rate), all other values held constant, we'll generate a new rate of the form $\\bar{r}\\leftarrow\\beta\\cdot\\bar{r}$, where $\\beta$ is a perturbation value; if $\\beta<1$ the perturbed interest rate is _less than_ the nominal rate, if $\\beta=1$ the perturbed interest rate is _equals_ the nominal rate, and if $\\beta>1$ the perturbed interest rate is _greater than_ the nominal rate. We'll then compute the price for each perturbed rate and compare the percentage change in price for each perturbed rate.\n",
    "\n",
    "Let's use the `zero_coupon_model` instance from above for this experiment.\n",
    "\n",
    "* First, specify the number of perturbation values in the `number_of_samples_task_2` variable; for this simulation, let `number_of_samples_task_2 = 7` (odd, so we capture the nominal case as the center data point).\n",
    "* Next, specify the lower bound in the `β₁` variable and the upper bound in the `β₂` variable; let `β₁ = 0.8` and `β₂ = 1.2.`\n",
    "* Finally, compute the perturbation array (stored in the `β::Array{Float64,1}` variable) using the [range function](https://docs.julialang.org/en/v1/base/math/#Base.range) in combination with the [Julia pipe |> operator](https://docs.julialang.org/en/v1/manual/functions/#Function-composition-and-piping), and the [collect function](https://docs.julialang.org/en/v1/base/collections/#Base.collect-Tuple{Type,%20Any}), which converts a range type to a collection, i.e., an array"
   ]
  },
  {
   "cell_type": "code",
   "execution_count": 12,
   "id": "5ca81fb5-47ef-4f07-a194-4eed8ad11a98",
   "metadata": {},
   "outputs": [],
   "source": [
    "number_of_samples_task_2  = 7;\n",
    "β₁ = 0.8;\n",
    "β₂ = 1.2;\n",
    "β = range(β₁, stop = β₂, length = number_of_samples_task_2) |> collect;"
   ]
  },
  {
   "cell_type": "markdown",
   "id": "b47230a9-6da8-4cd9-b595-d5e995e4edd2",
   "metadata": {},
   "source": [
    "`Finish`: Your job is to complete the implementation of the `Theorem 4` simulation for Bills, which we started below, and analyze the simulation results. We save the simulation results in the `simulation_results_task_2_array::Array{Float64,2}` array and display the results in a table using the `pretty_table(...)` function exported from the [PrettyTables.jl package](https://github.com/ronisbr/PrettyTables.jl)\n",
    "*  `Hint`: check out [the Julia `deepcopy(...)` function](https://docs.julialang.org/en/v1/base/copy/#Base.deepcopy). When you complete your implementation and run the notebook, you should see a table similar (numbers different, but similar structure) to the in-class example. Do you see that?"
   ]
  },
  {
   "cell_type": "code",
   "execution_count": 13,
   "id": "807b2757-5c65-4631-b5cb-943c7f0a0aba",
   "metadata": {},
   "outputs": [
    {
     "ename": "UndefVarError",
     "evalue": "UndefVarError: `observed_bill_price` not defined in `Main`\nSuggestion: check for spelling errors or missing imports.",
     "output_type": "error",
     "traceback": [
      "UndefVarError: `observed_bill_price` not defined in `Main`\n",
      "Suggestion: check for spelling errors or missing imports.\n",
      "\n",
      "Stacktrace:\n",
      " [1] top-level scope\n",
      "   @ ~/Desktop/julia_work/PS-5660-F25/PS1-CHEME-5660-CIR-TEMPLATE-Fall-2025/jl_notebook_cell_df34fa98e69747e1a8f8a730347b8e2f_X36sZmlsZQ==.jl:4"
     ]
    }
   ],
   "source": [
    "simulation_results_task_2_array = let\n",
    "    \n",
    "    # initialize -\n",
    "    VB = observed_bill_price;\n",
    "    simulation_results_task_2_array = Array{Float64,2}(undef, number_of_samples_task_2, 3);\n",
    "\n",
    "    # main loop\n",
    "    for i ∈ eachindex(β)\n",
    "        β_value = β[i]\n",
    "       \n",
    "        ### TODO: Build a deep copy of the zero-coupon model and update its rate. Alternatively, build a new model using the zcm parameters, and update the rate\n",
    "        model = deepcopy(zero_coupon_model);\n",
    "        model.rate = β_value*zero_coupon_model.rate\n",
    "        ### END SOLUTION\n",
    "        \n",
    "        # compute: use short-cut syntax and compute the price\n",
    "        perturbed_price = model |> discount_model |> x-> x.price\n",
    "        \n",
    "        # capture: put data in simulation_results_task_2_array\n",
    "        simulation_results_task_2_array[i,1] = β_value; # col 1: perturbation value\n",
    "        simulation_results_task_2_array[i,2] = 100*((model.rate - zero_coupon_model.rate)/(zero_coupon_model.rate));    # col 2: percentage change in r̄\n",
    "        simulation_results_task_2_array[i,3] = 100*((model.price - VB)/(VB)); # col 3: percentage change in the price of the Bill\n",
    "    end\n",
    "    simulation_results_task_2_array\n",
    "end;"
   ]
  },
  {
   "cell_type": "code",
   "execution_count": 14,
   "id": "e6c62e70-a3b4-45bb-a562-48d686657787",
   "metadata": {},
   "outputs": [
    {
     "ename": "UndefVarError",
     "evalue": "UndefVarError: `tf_simple` not defined in `Main`\nSuggestion: check for spelling errors or missing imports.",
     "output_type": "error",
     "traceback": [
      "UndefVarError: `tf_simple` not defined in `Main`\n",
      "Suggestion: check for spelling errors or missing imports.\n",
      "\n",
      "Stacktrace:\n",
      " [1] top-level scope\n",
      "   @ ~/Desktop/julia_work/PS-5660-F25/PS1-CHEME-5660-CIR-TEMPLATE-Fall-2025/jl_notebook_cell_df34fa98e69747e1a8f8a730347b8e2f_X40sZmlsZQ==.jl:1"
     ]
    }
   ],
   "source": [
    "pretty_table(simulation_results_task_2_array, header=[\"β\",\"Δr̄ (%)\",\"ΔPrice (%)\"] , tf=tf_simple)"
   ]
  },
  {
   "cell_type": "markdown",
   "id": "4b741312-4256-4126-9421-54e873422868",
   "metadata": {},
   "source": [
    "#### Does Theorem 4 hold for T-bills?\n",
    "Based on your analysis of the table above, update [the `Bool` value](https://docs.julialang.org/en/v1/base/numbers/#Core.Bool) below (either `true` or `false`):"
   ]
  },
  {
   "cell_type": "code",
   "execution_count": 15,
   "id": "9c3f9f5b-0cbb-4916-be0c-da2a4503eb5e",
   "metadata": {},
   "outputs": [],
   "source": [
    "does_theorem_4_hold_for_bills = true; # update this value {true | false}"
   ]
  },
  {
   "cell_type": "markdown",
   "id": "e29a1da2-4733-4cc9-9271-6efe7ee99606",
   "metadata": {},
   "source": [
    "__Why?__: explain your answer here: fill me in"
   ]
  },
  {
   "cell_type": "markdown",
   "id": "b755d02e-991b-4532-bd2a-f5e287285ef6",
   "metadata": {},
   "source": [
    "## Task 3: Is price price asymmetry a function of maturity?\n",
    "Finally, in class, we showed that coupon securities exhibited price asymmetry, i.e., the absolute percentage change in the price was larger for decreases in $\\bar{r}\\downarrow$ compared to the response when $\\bar{r}\\uparrow$ increases. However, are longer-maturity instruments more sensitive to this effect, i.e., do they exhibit a larger asymmetry? Let's do some calculations to explore this question.\n",
    "\n",
    "To start, create a hypothetical `T = 20-year` with the same parameters as the `30-year` bond we created above and compute its price. All parameters should be the same __expect__ the duration. Save the populated model instance in the `short_duration_bond` variable:"
   ]
  },
  {
   "cell_type": "code",
   "execution_count": 16,
   "id": "21aa2f35-97dc-4247-9975-48a623cc41b0",
   "metadata": {},
   "outputs": [
    {
     "ename": "UndefVarError",
     "evalue": "UndefVarError: `bond_coupon_model` not defined in `Main`\nSuggestion: check for spelling errors or missing imports.",
     "output_type": "error",
     "traceback": [
      "UndefVarError: `bond_coupon_model` not defined in `Main`\n",
      "Suggestion: check for spelling errors or missing imports.\n",
      "\n",
      "Stacktrace:\n",
      " [1] top-level scope\n",
      "   @ ~/Desktop/julia_work/PS-5660-F25/PS1-CHEME-5660-CIR-TEMPLATE-Fall-2025/jl_notebook_cell_df34fa98e69747e1a8f8a730347b8e2f_X45sZmlsZQ==.jl:1"
     ]
    }
   ],
   "source": [
    "short_duration_bond = deepcopy(bond_coupon_model);\n",
    "short_duration_bond.T = \"20-Year\" |> securityterm;\n",
    "short_duration_bond |> discount_model;"
   ]
  },
  {
   "cell_type": "markdown",
   "id": "bc0ba7c7-3eec-4024-a589-0ebb619b0231",
   "metadata": {},
   "source": [
    "`Finish`: Next, finish implementing the code block below. This code computes the percentage change in the short- and long-maturity bond price and stores the simulation data in the `simulation_results_task_3_array::Array{Float64,2}` array. See the `TODO` block."
   ]
  },
  {
   "cell_type": "code",
   "execution_count": 17,
   "id": "c6956b4d-f19d-4a94-8638-120ff379d830",
   "metadata": {},
   "outputs": [
    {
     "ename": "UndefVarError",
     "evalue": "UndefVarError: `short_duration_bond` not defined in `Main`\nSuggestion: check for spelling errors or missing imports.",
     "output_type": "error",
     "traceback": [
      "UndefVarError: `short_duration_bond` not defined in `Main`\n",
      "Suggestion: check for spelling errors or missing imports.\n",
      "\n",
      "Stacktrace:\n",
      " [1] top-level scope\n",
      "   @ ~/Desktop/julia_work/PS-5660-F25/PS1-CHEME-5660-CIR-TEMPLATE-Fall-2025/jl_notebook_cell_df34fa98e69747e1a8f8a730347b8e2f_X50sZmlsZQ==.jl:5"
     ]
    }
   ],
   "source": [
    "simulation_results_task_3_array = let\n",
    "    \n",
    "    # initialize -\n",
    "    simulation_results_task_3_array = Array{Float64,2}(undef, number_of_samples_task_2, 4);\n",
    "    VB_short = short_duration_bond.price # original\n",
    "    VB_long = bond_coupon_model.price\n",
    "\n",
    "    # main loop -\n",
    "    for i ∈ eachindex(β)\n",
    "        β_value = β[i]\n",
    "    \n",
    "        model_short = deepcopy(short_duration_bond); # create a copy of the short-duration model\n",
    "        model_long = deepcopy(bond_coupon_model); # create a copy of the original bond model (long duration)\n",
    "        \n",
    "        ### TODO: update the rate for the model_short, and model_long instances -\n",
    "        model_short.rate = β_value*short_duration_bond.rate\n",
    "        model_long.rate = β_value*bond_coupon_model.rate\n",
    "        ### END \n",
    "        \n",
    "        # compute: use short-cut syntax and compute the price of the short- and long-duration bonds\n",
    "        perturbed_price_short = model_short |> discount_model |> x-> x.price\n",
    "        perturbed_price_long = model_long |> discount_model |> x-> x.price\n",
    "        \n",
    "        # capture: put data in simulation_results_task_3_array\n",
    "        simulation_results_task_3_array[i,1] = β_value; # col 1: store the perturbation value\n",
    "        simulation_results_task_3_array[i,2] = 100*((model_short.rate - short_duration_bond.rate)/(short_duration_bond.rate));    # col 2: percentage change in r̄\n",
    "        simulation_results_task_3_array[i,3] = 100*((model_short.price - VB_short)/(VB_short)); # col 3: percentage change in the price of the short bond\n",
    "        simulation_results_task_3_array[i,4] = 100*((model_long.price - VB_long)/(VB_long)); # col 4: percentage change in the price of the long bond\n",
    "    end\n",
    "    \n",
    "    simulation_results_task_3_array\n",
    "end;"
   ]
  },
  {
   "cell_type": "code",
   "execution_count": 18,
   "id": "124d3276-db40-4d72-861c-f6dbe92bf660",
   "metadata": {},
   "outputs": [
    {
     "ename": "UndefVarError",
     "evalue": "UndefVarError: `tf_simple` not defined in `Main`\nSuggestion: check for spelling errors or missing imports.",
     "output_type": "error",
     "traceback": [
      "UndefVarError: `tf_simple` not defined in `Main`\n",
      "Suggestion: check for spelling errors or missing imports.\n",
      "\n",
      "Stacktrace:\n",
      " [1] top-level scope\n",
      "   @ ~/Desktop/julia_work/PS-5660-F25/PS1-CHEME-5660-CIR-TEMPLATE-Fall-2025/jl_notebook_cell_df34fa98e69747e1a8f8a730347b8e2f_X51sZmlsZQ==.jl:1"
     ]
    }
   ],
   "source": [
    "pretty_table(simulation_results_task_3_array, header=[\"β\",\"Δr̄ (%)\", \"ΔPrice-short (%)\", \"ΔPrice-long (%)\"] , tf=tf_simple)"
   ]
  },
  {
   "cell_type": "markdown",
   "id": "fee67944-0dfa-48ca-8487-12cc1aa2e200",
   "metadata": {},
   "source": [
    "#### Does price asymmetry change with duration?\n",
    "Based on your analysis of the table above, update [the `Bool` value](https://docs.julialang.org/en/v1/base/numbers/#Core.Bool) below (either `true` or `false`):"
   ]
  },
  {
   "cell_type": "code",
   "execution_count": 19,
   "id": "148c6a16-df63-493d-8393-d8ea1823251a",
   "metadata": {},
   "outputs": [],
   "source": [
    "is_price_asymmetry_func_maturity = true; # update this value {true | false}"
   ]
  },
  {
   "cell_type": "markdown",
   "id": "7ea2a9f2-d9e9-4706-bdd9-4cb29e76dd1c",
   "metadata": {},
   "source": [
    "__Why?__: explain your answer here: fill me in"
   ]
  },
  {
   "cell_type": "markdown",
   "id": "3e2490e6-aea1-4e8f-903d-522b8ba19607",
   "metadata": {},
   "source": [
    "## Testing\n",
    "In the code block below, we compare your answers to the teaching team and give you feedback on which items are the same (which presumably means they are correct) and which are different. `Unhide` the code block below (if you are curious) about how we implemented the tests and what we are testing."
   ]
  },
  {
   "cell_type": "code",
   "execution_count": 20,
   "id": "7a3f98c0-903e-41c1-b136-8b73e0acf297",
   "metadata": {},
   "outputs": [],
   "source": [
    "# let\n",
    "#     # Set the path -\n",
    "#     path_to_soln_file = joinpath(_PATH_TO_SOLN,\"PS1-TeachingTeam-Solution-CHEME-5660-Fall-2024.jld2\")\n",
    "    \n",
    "#     # write the file -\n",
    "#     save(path_to_soln_file, Dict(\"zero_coupon_model\"=>zero_coupon_model, \n",
    "#             \"note_coupon_model\"=>note_coupon_model, \"bond_coupon_model\" =>bond_coupon_model, \n",
    "#             \"simulation_results_task_3_array\"=>simulation_results_task_3_array, \n",
    "#             \"simulation_results_task_2_array\"=>simulation_results_task_2_array,\n",
    "#             \"is_price_asymmetry_func_maturity\"=>is_price_asymmetry_func_maturity,\n",
    "#             \"does_theorem_4_hold_for_bills\"=>does_theorem_4_hold_for_bills));\n",
    "# end"
   ]
  },
  {
   "cell_type": "code",
   "execution_count": 21,
   "id": "0f69ab74-c7a8-4927-9053-610d3ed13807",
   "metadata": {
    "jupyter": {
     "source_hidden": true
    }
   },
   "outputs": [
    {
     "ename": "LoadError",
     "evalue": "LoadError: UndefVarError: `@testset` not defined in `Main`\nSuggestion: check for spelling errors or missing imports.\nin expression starting at /Users/jdv27/Desktop/julia_work/PS-5660-F25/PS1-CHEME-5660-CIR-TEMPLATE-Fall-2025/jl_notebook_cell_df34fa98e69747e1a8f8a730347b8e2f_X60sZmlsZQ==.jl:6",
     "output_type": "error",
     "traceback": [
      "LoadError: UndefVarError: `@testset` not defined in `Main`\n",
      "Suggestion: check for spelling errors or missing imports.\n",
      "in expression starting at /Users/jdv27/Desktop/julia_work/PS-5660-F25/PS1-CHEME-5660-CIR-TEMPLATE-Fall-2025/jl_notebook_cell_df34fa98e69747e1a8f8a730347b8e2f_X60sZmlsZQ==.jl:6\n"
     ]
    }
   ],
   "source": [
    "let\n",
    "\n",
    "    # load teaching team solution data -\n",
    "    saved_solution_dict = joinpath(_PATH_TO_SOLN,\"PS1-TeachingTeam-Solution-CHEME-5660-Fall-2024.jld2\") |> load;\n",
    "\n",
    "    @testset verbose = true \"CHEME 5660 problem set 1 test suite\" begin\n",
    "\n",
    "        @testset \"zero-coupon model tests\" begin\n",
    "            zero_model_soln = saved_solution_dict[\"zero_coupon_model\"];\n",
    "\n",
    "            # check the data on the zero model -\n",
    "            @test zero_model_soln.T == zero_coupon_model.T\n",
    "            @test zero_model_soln.n == zero_coupon_model.n\n",
    "            @test zero_model_soln.par == zero_coupon_model.par\n",
    "            @test zero_model_soln.rate == zero_coupon_model.rate\n",
    "            @test isapprox(zero_model_soln.price, zero_coupon_model.price, atol=1e-4)\n",
    "            @test zero_model_soln.cashflow == zero_coupon_model.cashflow\n",
    "            @test zero_model_soln.discount == zero_coupon_model.discount\n",
    "        end\n",
    "\n",
    "        @testset \"note model tests\" begin\n",
    "            note_model_soln = saved_solution_dict[\"note_coupon_model\"];\n",
    "\n",
    "            # check the data on the note -\n",
    "            @test note_model_soln.T == note_coupon_model.T\n",
    "            @test note_model_soln.λ == note_coupon_model.λ\n",
    "            @test note_model_soln.par == note_coupon_model.par\n",
    "            @test note_model_soln.rate == note_coupon_model.rate\n",
    "            @test note_model_soln.coupon == note_coupon_model.coupon\n",
    "            @test isapprox(note_model_soln.price, note_coupon_model.price, atol=1e-4)\n",
    "            @test note_model_soln.cashflow == note_coupon_model.cashflow\n",
    "            @test note_model_soln.discount == note_coupon_model.discount\n",
    "        end\n",
    "\n",
    "        @testset \"bond model tests\" begin\n",
    "            bond_model_soln = saved_solution_dict[\"bond_coupon_model\"];\n",
    "\n",
    "            # check the data on the note -\n",
    "            @test bond_model_soln.T == bond_coupon_model.T\n",
    "            @test bond_model_soln.λ == bond_coupon_model.λ\n",
    "            @test bond_model_soln.par == bond_coupon_model.par\n",
    "            @test bond_model_soln.rate == bond_coupon_model.rate\n",
    "            @test bond_model_soln.coupon == bond_coupon_model.coupon\n",
    "            @test isapprox(bond_model_soln.price, bond_coupon_model.price, atol=1e-4)\n",
    "            @test bond_model_soln.cashflow == bond_coupon_model.cashflow\n",
    "            @test bond_model_soln.discount == bond_coupon_model.discount\n",
    "        end\n",
    "\n",
    "        @testset \"Task 2 tests\" begin\n",
    "            simulation_results_task_2_soln = saved_solution_dict[\"simulation_results_task_2_array\"];\n",
    "            task_2_flag = saved_solution_dict[\"does_theorem_4_hold_for_bills\"];\n",
    "            \n",
    "            @test round.(simulation_results_task_2_soln, digits=4) == round.(simulation_results_task_2_array, digits=4)\n",
    "            @test does_theorem_4_hold_for_bills == task_2_flag\n",
    "        end\n",
    "\n",
    "        @testset \"Task 3 tests\" begin\n",
    "            simulation_results_task_3_soln = saved_solution_dict[\"simulation_results_task_3_array\"];\n",
    "            task_3_flag = saved_solution_dict[\"is_price_asymmetry_func_maturity\"];\n",
    "            \n",
    "            @test round.(simulation_results_task_3_soln, digits=4) == round.(simulation_results_task_3_array, digits=4)\n",
    "            @test is_price_asymmetry_func_maturity == task_3_flag\n",
    "        end\n",
    "    end\n",
    "end;"
   ]
  },
  {
   "cell_type": "markdown",
   "id": "9c8c6693-8ce1-48be-9055-34a5c6c62d9f",
   "metadata": {},
   "source": [
    "## Disclaimer and Risks\n",
    "__This content is offered solely for training and informational purposes__. No offer or solicitation to buy or sell securities or derivative products or any investment or trading advice or strategy is made, given, or endorsed by the teaching team. \n",
    "\n",
    "__Trading involves risk__. Carefully review your financial situation before investing in securities, futures contracts, options, or commodity interests. Past performance, whether actual or indicated by historical tests of strategies, is no guarantee of future performance or success. Trading is generally inappropriate for someone with limited resources, investment or trading experience, or a low-risk tolerance.  Only risk capital that is not required for living expenses.\n",
    "\n",
    "__You are fully responsible for any investment or trading decisions you make__. Such decisions should be based solely on evaluating your financial circumstances, investment or trading objectives, risk tolerance, and liquidity needs."
   ]
  }
 ],
 "metadata": {
  "kernelspec": {
   "display_name": "Julia 1.11.6",
   "language": "julia",
   "name": "julia-1.11"
  },
  "language_info": {
   "file_extension": ".jl",
   "mimetype": "application/julia",
   "name": "julia",
   "version": "1.11.6"
  }
 },
 "nbformat": 4,
 "nbformat_minor": 5
}
