{
 "cells": [
  {
   "cell_type": "markdown",
   "id": "0c1da5e7-a131-42ce-85b2-0f6a0f9b4ada",
   "metadata": {},
   "source": [
    "# PS1: Let's build a backtester for U.S. Treasury Portfolios\n",
    "In this problem set, we will develop an initial proof-of-concept backtesting system for understanding how the value of United States Treasury security portfolio's change as a function of market conditions and time.\n",
    "\n",
    "Fill me in\n",
    "\n",
    "Let's go!\n",
    "___"
   ]
  },
  {
   "cell_type": "markdown",
   "id": "ea9e8472",
   "metadata": {},
   "source": [
    "## Setup, Data, and Prerequisites\n",
    "We set up the computational environment by including the `Include.jl` file, loading any needed resources, such as sample datasets, and setting up any required constants. \n",
    "\n",
    "> The [include(...) function](https://docs.julialang.org/en/v1/base/base/#include) is a convenient way to load Julia code from another file. The `Include.jl` file is a Julia file that loads external packages, and various functions that we will use in the exercise. It checks for a `Manifest.toml` file; if it finds one, packages are loaded. Otherwise, packages are downloaded and then loaded."
   ]
  },
  {
   "cell_type": "code",
   "execution_count": 1,
   "id": "5bb1b369",
   "metadata": {},
   "outputs": [],
   "source": [
    "include(joinpath(@__DIR__, \"Include-solution.jl\")); # this sets up the environment, we'll do this all the time, on everything we do"
   ]
  },
  {
   "cell_type": "markdown",
   "id": "7f5dddd7",
   "metadata": {},
   "source": [
    "For additional information on functions and types used in this material, see the [Julia programming language documentation](https://docs.julialang.org/en/v1/) and the [VLQuantitativeFinancePackage.jl documentation](https://github.com/varnerlab/VLQuantitativeFinancePackage.jl). "
   ]
  },
  {
   "cell_type": "markdown",
   "id": "df395420",
   "metadata": {},
   "source": [
    "### Constants\n",
    "Let's define some constants that we will use throughout the problem set. See the comment next to each constant for a description of its purpose, permissible values, units, etc."
   ]
  },
  {
   "cell_type": "code",
   "execution_count": 2,
   "id": "284fa337",
   "metadata": {},
   "outputs": [],
   "source": [
    "Δt = (1/252); # units: years, time step for the lattice model, daily steps (trading days basis)\n",
    "number_of_steps = 10; # project value out to this many time steps\n",
    "μ₊ = 1.21; # up factor drift\n",
    "μ₋ = -(1/μ₊); # down factor drift\n",
    "μₒ = 0.0; # neutral factor drift"
   ]
  },
  {
   "cell_type": "markdown",
   "id": "f88d143b",
   "metadata": {},
   "source": [
    "## Task 1: Recombining lattice model for the investment rate of a U.S. Treasury Bill\n",
    "Fill me in"
   ]
  },
  {
   "cell_type": "code",
   "execution_count": 3,
   "id": "0e33b3ad",
   "metadata": {},
   "outputs": [
    {
     "data": {
      "text/plain": [
       "MyGeneralDiscreteRecombiningTreeModel(Dict{Int64, NamedTuple}(56 => (quantity = 0.04374221262160997, path = [6, 0, 0]), 35 => (quantity = 0.04353268400647249, path = [5, 0, 0]), 60 => (quantity = 0.04291010090427576, path = [2, 4, 0]), 67 => (quantity = 0.042564735891883254, path = [1, 4, 1]), 215 => (quantity = 0.041735363796841236, path = [1, 1, 7]), 73 => (quantity = 0.042222150574464004, path = [0, 4, 2]), 115 => (quantity = 0.04201000984631323, path = [1, 1, 5]), 112 => (quantity = 0.04214800988616441, path = [1, 2, 4]), 185 => (quantity = 0.0434562420651726, path = [6, 1, 2]), 86 => (quantity = 0.04353268400647249, path = [5, 2, 0])…), Dict(56 => [84, 85, 92], 35 => [56, 57, 63], 60 => [88, 89, 96], 67 => [96, 97, 103], 215 => [277, 278, 281], 73 => [103, 104, 109], 115 => [156, 157, 160], 112 => [152, 153, 157], 185 => [242, 243, 251], 86 => [122, 123, 131]…), Dict(0 => [0], 4 => [20, 21, 22, 23, 24, 25, 26, 27, 28, 29, 30, 31, 32, 33, 34], 5 => [35, 36, 37, 38, 39, 40, 41, 42, 43, 44  …  46, 47, 48, 49, 50, 51, 52, 53, 54, 55], 6 => [56, 57, 58, 59, 60, 61, 62, 63, 64, 65  …  74, 75, 76, 77, 78, 79, 80, 81, 82, 83], 2 => [4, 5, 6, 7, 8, 9], 7 => [84, 85, 86, 87, 88, 89, 90, 91, 92, 93  …  110, 111, 112, 113, 114, 115, 116, 117, 118, 119], 9 => [165, 166, 167, 168, 169, 170, 171, 172, 173, 174  …  210, 211, 212, 213, 214, 215, 216, 217, 218, 219], 8 => [120, 121, 122, 123, 124, 125, 126, 127, 128, 129  …  155, 156, 157, 158, 159, 160, 161, 162, 163, 164], 3 => [10, 11, 12, 13, 14, 15, 16, 17, 18, 19], 1 => [1, 2, 3]…), 9, 3)"
      ]
     },
     "metadata": {},
     "output_type": "display_data"
    }
   ],
   "source": [
    "interest_rate_tree_4_week = let\n",
    "    \n",
    "    # initialize -\n",
    "    Δ = [\n",
    "        exp(μ₊*Δt) , exp(μₒ*Δt), exp(μ₋*Δt) # this is the amount by which the interest rate changes at each step (daily)\n",
    "    ];\n",
    "    r̄ = 0.0425; # initial interest rate (4.25% annualized)\n",
    "    n = 3; # number of branches at each node\n",
    "    h = number_of_steps - 1; # number of time steps to project out\n",
    "\n",
    "    # build an empty tree -\n",
    "    interest_rate_tree = build(MyGeneralDiscreteRecombiningTreeModel, (\n",
    "        n = n, h = h,\n",
    "    )) |> tree -> populate!(tree, r̄, Δ);\n",
    "\n",
    "\n",
    "    interest_rate_tree # return - interest_rate_tree\n",
    "end"
   ]
  },
  {
   "cell_type": "markdown",
   "id": "5482e66e",
   "metadata": {},
   "source": [
    "Fill me in"
   ]
  },
  {
   "cell_type": "code",
   "execution_count": 4,
   "id": "a478295c",
   "metadata": {},
   "outputs": [
    {
     "data": {
      "text/plain": [
       "(:data, :connectivity, :levels, :h, :n)"
      ]
     },
     "metadata": {},
     "output_type": "display_data"
    }
   ],
   "source": [
    "interest_rate_tree_4_week |> typeof |> fieldnames"
   ]
  },
  {
   "cell_type": "code",
   "execution_count": 9,
   "id": "1749a093",
   "metadata": {},
   "outputs": [
    {
     "data": {
      "text/plain": [
       "6-element Vector{Int64}:\n",
       " 4\n",
       " 5\n",
       " 6\n",
       " 7\n",
       " 8\n",
       " 9"
      ]
     },
     "metadata": {},
     "output_type": "display_data"
    }
   ],
   "source": [
    "interest_rate_tree_4_week.levels[2]"
   ]
  },
  {
   "cell_type": "code",
   "execution_count": 10,
   "id": "81813251",
   "metadata": {},
   "outputs": [
    {
     "data": {
      "text/plain": [
       "6"
      ]
     },
     "metadata": {},
     "output_type": "display_data"
    }
   ],
   "source": [
    "nodes_at_level(2,3)"
   ]
  },
  {
   "cell_type": "markdown",
   "id": "21c13ba2",
   "metadata": {},
   "source": [
    "## Task 2: Compute the captial gains and losses of a U.S. Treasury Bill portfolio\n",
    "Fill me in"
   ]
  },
  {
   "cell_type": "markdown",
   "id": "a1fb793a",
   "metadata": {},
   "source": [
    "## Task 3: Compute the Net Present Value of a U.S. Treasury Bill portfolio\n",
    "Fill me in"
   ]
  },
  {
   "cell_type": "markdown",
   "id": "be161c14-cc83-48ad-b443-9336a4af0d69",
   "metadata": {},
   "source": [
    "## Disclaimer and Risks\n",
    "__This content is offered solely for training and informational purposes__. No offer or solicitation to buy or sell securities or derivative products or any investment or trading advice or strategy is made, given, or endorsed by the teaching team. \n",
    "\n",
    "__Trading involves risk__. Carefully review your financial situation before investing in securities, futures contracts, options, or commodity interests. Past performance, whether actual or indicated by historical tests of strategies, is no guarantee of future performance or success. Trading is generally inappropriate for someone with limited resources, investment or trading experience, or a low-risk tolerance.  Only risk capital that is not required for living expenses.\n",
    "\n",
    "__You are fully responsible for any investment or trading decisions you make__. Such decisions should be based solely on evaluating your financial circumstances, investment or trading objectives, risk tolerance, and liquidity needs.\n",
    "\n",
    "___"
   ]
  },
  {
   "cell_type": "markdown",
   "id": "3cd30934",
   "metadata": {},
   "source": []
  }
 ],
 "metadata": {
  "kernelspec": {
   "display_name": "Julia 1.11.6",
   "language": "julia",
   "name": "julia-1.11"
  },
  "language_info": {
   "file_extension": ".jl",
   "mimetype": "application/julia",
   "name": "julia",
   "version": "1.11.6"
  }
 },
 "nbformat": 4,
 "nbformat_minor": 5
}
