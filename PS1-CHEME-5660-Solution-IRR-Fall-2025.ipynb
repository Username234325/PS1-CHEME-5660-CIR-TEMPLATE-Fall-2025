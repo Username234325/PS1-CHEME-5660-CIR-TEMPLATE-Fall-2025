{
 "cells": [
  {
   "cell_type": "markdown",
   "id": "0c1da5e7-a131-42ce-85b2-0f6a0f9b4ada",
   "metadata": {},
   "source": [
    "# PS1: Let's build a backtester for U.S. Treasury Portfolios\n",
    "In this problem set, we will develop an initial proof-of-concept backtesting system for understanding how the value of United States Treasury security portfolio's change as a function of market conditions and time.\n",
    "\n",
    "Fill me in\n",
    "\n",
    "Let's go!\n",
    "___"
   ]
  },
  {
   "cell_type": "markdown",
   "id": "ea9e8472",
   "metadata": {},
   "source": [
    "# Setup, Data and Prequisites\n",
    "Fill me in."
   ]
  },
  {
   "cell_type": "markdown",
   "id": "be161c14-cc83-48ad-b443-9336a4af0d69",
   "metadata": {},
   "source": [
    "## Disclaimer and Risks\n",
    "__This content is offered solely for training and informational purposes__. No offer or solicitation to buy or sell securities or derivative products or any investment or trading advice or strategy is made, given, or endorsed by the teaching team. \n",
    "\n",
    "__Trading involves risk__. Carefully review your financial situation before investing in securities, futures contracts, options, or commodity interests. Past performance, whether actual or indicated by historical tests of strategies, is no guarantee of future performance or success. Trading is generally inappropriate for someone with limited resources, investment or trading experience, or a low-risk tolerance.  Only risk capital that is not required for living expenses.\n",
    "\n",
    "__You are fully responsible for any investment or trading decisions you make__. Such decisions should be based solely on evaluating your financial circumstances, investment or trading objectives, risk tolerance, and liquidity needs.\n",
    "\n",
    "___"
   ]
  },
  {
   "cell_type": "markdown",
   "id": "3cd30934",
   "metadata": {},
   "source": []
  }
 ],
 "metadata": {
  "kernelspec": {
   "display_name": "Julia 1.11.6",
   "language": "julia",
   "name": "julia-1.11"
  },
  "language_info": {
   "name": ""
  }
 },
 "nbformat": 4,
 "nbformat_minor": 5
}
